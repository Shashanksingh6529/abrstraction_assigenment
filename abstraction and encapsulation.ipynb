{
 "cells": [
  {
   "cell_type": "markdown",
   "id": "7c1fb067-cd56-4f74-a40a-7bdd60c7272f",
   "metadata": {},
   "source": [
    "Q1. What is Abstraction in OOPs? Explain with an example."
   ]
  },
  {
   "cell_type": "code",
   "execution_count": 2,
   "id": "e09c2169-e94e-48cc-898e-1dde1ea8eba1",
   "metadata": {},
   "outputs": [
    {
     "data": {
      "text/plain": [
       "\"Abstraction in OOPs is the process of hiding the implementation details and showing only the essential features of an object to the outside world. It focuses on 'what' an object does rather than 'how' it does it.\""
      ]
     },
     "execution_count": 2,
     "metadata": {},
     "output_type": "execute_result"
    }
   ],
   "source": [
    "\"Abstraction in OOPs is the process of hiding the implementation details and showing only the essential features of an object to the outside world. It focuses on 'what' an object does rather than 'how' it does it.\""
   ]
  },
  {
   "cell_type": "code",
   "execution_count": 3,
   "id": "9925ae86-2392-41c2-af4e-1c064e7fa453",
   "metadata": {},
   "outputs": [
    {
     "data": {
      "text/plain": [
       "\"Abstraction allows us to represent complex systems in a simplified manner, making it easier to understand and work with.\\nFor example, consider a car. From a user's perspective, they only need to know how to drive the car (accelerate, brake, steer), without worrying about how the engine works internally or how the gearbox shifts gears. This is abstraction, where the user interacts with the car through a simplified interface, without needing to understand its internal workings.\""
      ]
     },
     "execution_count": 3,
     "metadata": {},
     "output_type": "execute_result"
    }
   ],
   "source": [
    "\"\"\"Abstraction allows us to represent complex systems in a simplified manner, making it easier to understand and work with.\n",
    "For example, consider a car. From a user's perspective, they only need to know how to drive the car (accelerate, brake, steer), without worrying about how the engine works internally or how the gearbox shifts gears. This is abstraction, where the user interacts with the car through a simplified interface, without needing to understand its internal workings.\"\"\""
   ]
  },
  {
   "cell_type": "markdown",
   "id": "10506fb1-1cc5-4664-93ba-3a9a32147758",
   "metadata": {},
   "source": [
    "Q2. Differentiate between Abstraction and Encapsulation. Explain with an example."
   ]
  },
  {
   "cell_type": "code",
   "execution_count": 4,
   "id": "19bc358a-542d-4ff4-94e2-c1dc639ac534",
   "metadata": {},
   "outputs": [
    {
     "data": {
      "text/plain": [
       "'Abstraction focuses on hiding the implementation details and showing only the essential features of an object to the outside world. It emphasizes \"what\" an object does.\\nEncapsulation focuses on bundling the data (attributes) and methods (functions) that operate on the data into a single unit, i.e., a class. It hides the internal state of an object and only exposes the necessary functionalities'"
      ]
     },
     "execution_count": 4,
     "metadata": {},
     "output_type": "execute_result"
    }
   ],
   "source": [
    "\"\"\"Abstraction focuses on hiding the implementation details and showing only the essential features of an object to the outside world. It emphasizes \"what\" an object does.\n",
    "Encapsulation focuses on bundling the data (attributes) and methods (functions) that operate on the data into a single unit, i.e., a class. It hides the internal state of an object and only exposes the necessary functionalities\"\"\""
   ]
  },
  {
   "cell_type": "markdown",
   "id": "0648e308-cbbb-45ad-b8d1-db662ca0c8d2",
   "metadata": {},
   "source": [
    "Q3. What is abc module in Python? Why is it used?"
   ]
  },
  {
   "cell_type": "code",
   "execution_count": 5,
   "id": "2e08cc25-f9ff-49b9-b8bb-b441e0a9a3b8",
   "metadata": {},
   "outputs": [
    {
     "data": {
      "text/plain": [
       "'The abc (Abstract Base Classes) module in Python provides tools for working with abstract base classes.\\nIt allows you to define abstract classes and methods, which are classes and methods that must be implemented by subclasses but are not implemented in the abstract base class itself.\\nIt is used to enforce a certain structure or interface in subclasses, ensuring that they provide implementations for specific methods.\\nThe abc module is particularly useful for enforcing data abstraction and defining interfaces.'"
      ]
     },
     "execution_count": 5,
     "metadata": {},
     "output_type": "execute_result"
    }
   ],
   "source": [
    "\"\"\"The abc (Abstract Base Classes) module in Python provides tools for working with abstract base classes.\n",
    "It allows you to define abstract classes and methods, which are classes and methods that must be implemented by subclasses but are not implemented in the abstract base class itself.\n",
    "It is used to enforce a certain structure or interface in subclasses, ensuring that they provide implementations for specific methods.\n",
    "The abc module is particularly useful for enforcing data abstraction and defining interfaces.\"\"\""
   ]
  },
  {
   "cell_type": "markdown",
   "id": "79fa406e-8ec0-4169-872e-1a2c855cc6e6",
   "metadata": {},
   "source": [
    "Q4. How can we achieve data abstraction?"
   ]
  },
  {
   "cell_type": "code",
   "execution_count": 6,
   "id": "6a46619c-c422-44bf-bd42-b97c0b9fccf5",
   "metadata": {},
   "outputs": [
    {
     "name": "stdout",
     "output_type": "stream",
     "text": [
      "Area: 78.5\n",
      "Perimeter: 31.400000000000002\n"
     ]
    }
   ],
   "source": [
    "from abc import ABC, abstractmethod\n",
    "\n",
    "class Shape(ABC):\n",
    "    @abstractmethod\n",
    "    def area(self):\n",
    "        pass\n",
    "\n",
    "    @abstractmethod\n",
    "    def perimeter(self):\n",
    "        pass\n",
    "\n",
    "class Circle(Shape):\n",
    "    def __init__(self, radius):\n",
    "        self.radius = radius\n",
    "\n",
    "    def area(self):\n",
    "        return 3.14 * self.radius * self.radius\n",
    "\n",
    "    def perimeter(self):\n",
    "        return 2 * 3.14 * self.radius\n",
    "\n",
    "circle = Circle(5)\n",
    "print(\"Area:\", circle.area())\n",
    "print(\"Perimeter:\", circle.perimeter())"
   ]
  },
  {
   "cell_type": "markdown",
   "id": "78004009-714d-4b8f-82fa-a5d1f3828d35",
   "metadata": {},
   "source": [
    "Q5. Can we create an instance of an abstract class? Explain your answer."
   ]
  },
  {
   "cell_type": "code",
   "execution_count": 8,
   "id": "93bb1cf8-3e15-46d9-8abd-8221774ad56a",
   "metadata": {},
   "outputs": [
    {
     "ename": "TypeError",
     "evalue": "Can't instantiate abstract class Shape with abstract method area",
     "output_type": "error",
     "traceback": [
      "\u001b[0;31m---------------------------------------------------------------------------\u001b[0m",
      "\u001b[0;31mTypeError\u001b[0m                                 Traceback (most recent call last)",
      "Cell \u001b[0;32mIn[8], line 13\u001b[0m\n\u001b[1;32m     10\u001b[0m         \u001b[38;5;28;01mreturn\u001b[39;00m \u001b[38;5;241m3.14\u001b[39m \u001b[38;5;241m*\u001b[39m \u001b[38;5;28mself\u001b[39m\u001b[38;5;241m.\u001b[39mradius \u001b[38;5;241m*\u001b[39m \u001b[38;5;28mself\u001b[39m\u001b[38;5;241m.\u001b[39mradius\n\u001b[1;32m     12\u001b[0m \u001b[38;5;66;03m# Attempting to create an instance of the abstract class Shape\u001b[39;00m\n\u001b[0;32m---> 13\u001b[0m shape \u001b[38;5;241m=\u001b[39m \u001b[43mShape\u001b[49m\u001b[43m(\u001b[49m\u001b[43m)\u001b[49m  \u001b[38;5;66;03m# This will raise a TypeError\u001b[39;00m\n",
      "\u001b[0;31mTypeError\u001b[0m: Can't instantiate abstract class Shape with abstract method area"
     ]
    }
   ],
   "source": [
    "from abc import ABC, abstractmethod\n",
    "\n",
    "class Shape(ABC):\n",
    "    @abstractmethod\n",
    "    def area(self):\n",
    "        pass\n",
    "\n",
    "class Circle(Shape):\n",
    "    def area(self):\n",
    "        return 3.14 * self.radius * self.radius\n",
    "\n",
    "# Attempting to create an instance of the abstract class Shape\n",
    "shape = Shape\\()  # This will raise a TypeError"
   ]
  },
  {
   "cell_type": "code",
   "execution_count": null,
   "id": "8628bb5c-be27-40ee-83e0-ea35ae73a647",
   "metadata": {},
   "outputs": [],
   "source": []
  }
 ],
 "metadata": {
  "kernelspec": {
   "display_name": "Python 3 (ipykernel)",
   "language": "python",
   "name": "python3"
  },
  "language_info": {
   "codemirror_mode": {
    "name": "ipython",
    "version": 3
   },
   "file_extension": ".py",
   "mimetype": "text/x-python",
   "name": "python",
   "nbconvert_exporter": "python",
   "pygments_lexer": "ipython3",
   "version": "3.10.8"
  }
 },
 "nbformat": 4,
 "nbformat_minor": 5
}
